{
 "cells": [
  {
   "cell_type": "markdown",
   "metadata": {},
   "source": [
    "# Week 1\n",
    "- Joshua Burden\n",
    "- DSC630 Predictive Analytics\n",
    "- Bellevue University\n",
    "- Catherine Williams\n",
    "- 09/04/2022"
   ]
  },
  {
   "cell_type": "markdown",
   "metadata": {},
   "source": [
    "### The dataset I am using is the valuation of startups from [Kaggle World Wide unicorn startups dataset](https://www.kaggle.com/datasets/uzairrehman/world-wide-unicorn-startups?select=World_Wide_Unicorn_Startups.csv)\n",
    "\n",
    "Contains a list of unicorn startup companies\n",
    "\n",
    "This is a list of unicorn startup companies. In finance, a unicorn is a privately held startup company with a current valuation of US$1 billion or more, across technology centers throughout the world.\n",
    "\n",
    "Notable lists of unicorn companies are maintained by The Wall Street Journal Fortune Magazine CNNMoney/CB Insights TechCrunch PitchBook/Morningstar and Tech in Asia.\n",
    "\n",
    "Topics covered in this dataset:\n",
    "\n",
    "- check the different unicorn startups in industry sectors\n",
    "- Yearly companies joined unicorn club\n",
    "- You can check for other countries as well.\n",
    "- Number of US startups count\n",
    "- Line graph - US Based Companies\n",
    "- Extract some columns from US_unicorn startups\n",
    "- How many fintech comapny in ths US?\n",
    "- Most valued unicorn based country\n",
    "- How you can access a specific company?\n",
    "- Based on valuation which company has most valuation?\n",
    "- Which city has most valuation startups in world?\n",
    "- Total number of valuation startups in all cities\n",
    "- Check unicorn startups in San Francisco\n",
    "- Draw a chart of companies in all cities\n",
    "- Total number of companies in all cities\n",
    "- word cloud of investors\n",
    "\n",
    "My biggest questions are: \n",
    "- what company has the most valuation\n",
    "- what years were companies the highest in valuation"
   ]
  },
  {
   "cell_type": "markdown",
   "metadata": {},
   "source": [
    "import pandas as pd\n",
    "import numpy as np\n",
    "import matplotlib.pyplot as plt\n",
    "import seaborn as sns\n",
    "df = pd.read_csv('World_Wide_Unicorn_Startups\\World_Wide_Unicorn_Startups.csv')\n",
    "df.head(10)"
   ]
  },
  {
   "cell_type": "code",
   "execution_count": 33,
   "metadata": {},
   "outputs": [
    {
     "data": {
      "text/html": [
       "<div>\n",
       "<style scoped>\n",
       "    .dataframe tbody tr th:only-of-type {\n",
       "        vertical-align: middle;\n",
       "    }\n",
       "\n",
       "    .dataframe tbody tr th {\n",
       "        vertical-align: top;\n",
       "    }\n",
       "\n",
       "    .dataframe thead th {\n",
       "        text-align: right;\n",
       "    }\n",
       "</style>\n",
       "<table border=\"1\" class=\"dataframe\">\n",
       "  <thead>\n",
       "    <tr style=\"text-align: right;\">\n",
       "      <th></th>\n",
       "      <th>Valuation</th>\n",
       "      <th>Company</th>\n",
       "    </tr>\n",
       "  </thead>\n",
       "  <tbody>\n",
       "    <tr>\n",
       "      <th>0</th>\n",
       "      <td>140.0</td>\n",
       "      <td>Bytedance</td>\n",
       "    </tr>\n",
       "    <tr>\n",
       "      <th>1</th>\n",
       "      <td>100.3</td>\n",
       "      <td>SpaceX</td>\n",
       "    </tr>\n",
       "    <tr>\n",
       "      <th>2</th>\n",
       "      <td>95.0</td>\n",
       "      <td>Stripe</td>\n",
       "    </tr>\n",
       "    <tr>\n",
       "      <th>3</th>\n",
       "      <td>45.6</td>\n",
       "      <td>Klarna</td>\n",
       "    </tr>\n",
       "    <tr>\n",
       "      <th>4</th>\n",
       "      <td>40.0</td>\n",
       "      <td>Canva</td>\n",
       "    </tr>\n",
       "  </tbody>\n",
       "</table>\n",
       "</div>"
      ],
      "text/plain": [
       "   Valuation    Company\n",
       "0      140.0  Bytedance\n",
       "1      100.3     SpaceX\n",
       "2       95.0     Stripe\n",
       "3       45.6     Klarna\n",
       "4       40.0      Canva"
      ]
     },
     "execution_count": 33,
     "metadata": {},
     "output_type": "execute_result"
    }
   ],
   "source": [
    "#Generate summary stats \n",
    "df[['Valuation','Company']].describe()\n",
    "\n",
    "df_1 = df[['Valuation','Company']]\n",
    "df_1.head()"
   ]
  },
  {
   "cell_type": "code",
   "execution_count": 46,
   "metadata": {},
   "outputs": [
    {
     "data": {
      "image/png": "[encoded data removed]",
      "text/plain": [
       "<Figure size 432x288 with 1 Axes>"
      ]
     },
     "metadata": {
      "needs_background": "light"
     },
     "output_type": "display_data"
    }
   ],
   "source": [
    "\n",
    "\n",
    "\n",
    "plt.hist(df['Valuation'])\n",
    "plt.title('Vaulation of startups')\n",
    "plt.xlabel('Valuation')\n",
    "plt.ylabel('value')\n",
    "plt.show()\n"
   ]
  },
  {
   "cell_type": "code",
   "execution_count": null,
   "metadata": {},
   "outputs": [],
   "source": []
  },
  {
   "cell_type": "code",
   "execution_count": 47,
   "metadata": {},
   "outputs": [
    {
     "data": {
      "image/png": "[encoded data removed]",
      "text/plain": [
       "<Figure size 432x288 with 1 Axes>"
      ]
     },
     "metadata": {
      "needs_background": "light"
     },
     "output_type": "display_data"
    }
   ],
   "source": [
    "#create boxplot of the medical charges\n",
    "sns.boxplot(x=df['Valuation'])\n",
    "plt.title(\"Valuation of startup\")\n",
    "plt.show()"
   ]
  },
  {
   "cell_type": "code",
   "execution_count": 54,
   "metadata": {},
   "outputs": [
    {
     "data": {
      "image/png": "[encoded data removed]",
      "text/plain": [
       "<Figure size 432x288 with 1 Axes>"
      ]
     },
     "metadata": {
      "needs_background": "light"
     },
     "output_type": "display_data"
    }
   ],
   "source": [
    "#create bivariate scatter plot\n",
    "sns.scatterplot(x=df['Valuation'], y=df['year'])\n",
    "plt.title(\"Valuation of startup by year\")\n",
    "plt.xlabel(\"Valuation Value\")\n",
    "plt.ylabel('Year')\n",
    "plt.show()"
   ]
  },
  {
   "cell_type": "markdown",
   "metadata": {},
   "source": [
    "### Summarize your results and make a conclusion. Explain how you arrived at this conclusion and how your visualizations support your conclusion.\n",
    "\n",
    "It would seem that between 2016 and 2018 where the biggest years for startups for valuation. And as for who had the highest valuation would be ByteDance, the company responsible for TikTok, followed by SpaceX. Interesting that ByteDance would be father in valuation value that SpaceX, but it makes sense as SpaceX only has a small corner of the market, whereas TikTok is a social media platform that covers many countries. "
   ]
  },
  {
   "cell_type": "markdown",
   "metadata": {},
   "source": []
  }
 ],
 "metadata": {
  "kernelspec": {
   "display_name": "Python 3.9.12 ('base')",
   "language": "python",
   "name": "python3"
  },
  "language_info": {
   "codemirror_mode": {
    "name": "ipython",
    "version": 3
   },
   "file_extension": ".py",
   "mimetype": "text/x-python",
   "name": "python",
   "nbconvert_exporter": "python",
   "pygments_lexer": "ipython3",
   "version": "3.9.12"
  },
  "orig_nbformat": 4,
  "vscode": {
   "interpreter": {
    "hash": "d30727e1a078f289a01c1d53c38d31a102f3684ea672a5ba370ee05d383ea42a"
   }
  }
 },
 "nbformat": 4,
 "nbformat_minor": 2
}
